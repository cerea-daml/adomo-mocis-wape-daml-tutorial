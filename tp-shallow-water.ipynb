{
 "cells": [
  {
   "cell_type": "markdown",
   "metadata": {},
   "source": [
    "# Data assimilation applied to a shallow water model: practical sessions\n",
    "\n",
    "##### Alban Farchi, CEREA, [alban.farchi@enpc.fr](mailto:alban.farchi@enpc.fr)\n",
    "\n",
    "During these sessions, you will apply two classical data assimilation methods to a shallow water model. The objective for you is to better understand these methods, figure out their practical implementations and identify their key parameters."
   ]
  },
  {
   "cell_type": "markdown",
   "metadata": {},
   "source": [
    "## I. The shallow water model\n",
    "\n",
    "A shallow water model is well adapted to flows below a free surface when the depth is much smaller than the horizontal dimensions. It is commonly used to represent a lake or river. Its equations describe the time evolution of the water height $h(x)$ and the horizontal velocity $u(x)$ in a fixed-length domain.\n",
    "\n",
    "A simplified unidimensional version reads\n",
    "$$\n",
    "    \\frac{\\partial h}{\\partial t} + \\frac{\\partial(hu)}{\\partial x} = 0,\\\\\n",
    "    \\frac{\\partial(hu)}{\\partial t} + \\frac{\\partial(hu^2)}{\\partial x} + gh\\frac{\\partial h}{\\partial x} = 0.\n",
    "$$\n",
    "\n",
    "Several boundary conditions may be defined. In our case, we rely on the following conditions:\n",
    "1. on the left, a constant inflow $Q=hu$;\n",
    "2. on the right, a homogeneous Neumann condition for $h$ and $u$, where fluxes are consequently determined by the state of the system along the boundary.\n",
    "\n",
    "The equations are discretized and numerically solved in the custom `shallow_water_model` module."
   ]
  },
  {
   "cell_type": "markdown",
   "metadata": {},
   "source": [
    "## II. The truth simulation\n",
    "\n",
    "In this series of experiments, we will use twin simulations.\n",
    "1. We run a reference simulation. The result is considered to be the **true situation** and is called the **truth**.\n",
    "2. From the truth we extract **synthetic observations**.\n",
    "3. Using the observations only, we try to reconstruct the truth using a dedicated **data assimilation** algorithm.\n",
    "\n",
    "Let us start with the truth. The simulation domain is discretised using `Nx=101` grid points. At the initial time, the horizontal velocity $u(x)$ is null, and the water height $h(x)$ is a crenel: $h(x)=1$ everywhere but in the center of the domain, where $h(x)=1.05$. The simulation is run for `Nt=500` time iterations. The other model parameters are `dx=1` (the horizontal step), `dt=0.03` (the time step), `Q=0.1` (the constant inflow on the left), and `g=9.81` (the acceleration due to gravity).\n",
    "\n",
    "### Questions\n",
    "\n",
    "1. What is the dimension of the state vector of the numerical model?\n",
    "2. Run the truth simulation and explain the dynamics of the truth.\n",
    "\n",
    "### Tips\n",
    "\n",
    "- If the animations are too long to produce, reduce the dpi in the first cell (use typically 100) or increase `freq` to `15` or `20` in the last two cells."
   ]
  },
  {
   "cell_type": "code",
   "execution_count": null,
   "metadata": {},
   "outputs": [],
   "source": [
    "# import standard modules\n",
    "import numpy as np\n",
    "import scipy\n",
    "from matplotlib import pyplot as plt\n",
    "from matplotlib import animation\n",
    "import seaborn as sns\n",
    "from tqdm.auto import trange\n",
    "from IPython.display import HTML\n",
    "\n",
    "# for plot customisation\n",
    "sns.set_context('notebook')\n",
    "sns.set_style('darkgrid')\n",
    "plt.rc('axes', linewidth=1)\n",
    "plt.rc('axes', edgecolor='k')\n",
    "plt.rc('figure', dpi=100)\n",
    "palette = sns.color_palette('deep')\n",
    "\n",
    "# import custom shallow water model package\n",
    "import shallow_water_model as swm"
   ]
  },
  {
   "cell_type": "code",
   "execution_count": null,
   "metadata": {},
   "outputs": [],
   "source": [
    "# list of parameters\n",
    "Nx = 101\n",
    "dx = 1\n",
    "dt = 0.03\n",
    "Q = 0.1\n",
    "g = 9.81\n",
    "Nt = 500\n",
    "h_anom = 1.05"
   ]
  },
  {
   "cell_type": "code",
   "execution_count": null,
   "metadata": {},
   "outputs": [],
   "source": [
    "# create the model\n",
    "sw_model = swm.ShallowWaterModel(Nx, dx, dt, Q, g)\n",
    "\n",
    "# create a driver\n",
    "def forecast_driver(model, state, Nt):\n",
    "    \"\"\"Run a simulation of Nt time steps of the given model starting from state.\n",
    "    \n",
    "    Return the history of h and u.\n",
    "    \"\"\"\n",
    "    # allocate memory\n",
    "    hist = dict(Nt=Nt,\n",
    "                h=np.empty((Nt+1, model.Nx)),\n",
    "                u=np.empty((Nt+1, model.Nx)))\n",
    "    \n",
    "    # initialisation\n",
    "    hist['h'][0] = state.h\n",
    "    hist['u'][0] = state.u\n",
    "    \n",
    "    # run the Nt time steps\n",
    "    for t in trange(Nt, desc='running forward model'):\n",
    "        model.forward(state)\n",
    "        hist['h'][t+1] = state.h\n",
    "        hist['u'][t+1] = state.u\n",
    "        \n",
    "    # return history\n",
    "    return hist"
   ]
  },
  {
   "cell_type": "code",
   "execution_count": null,
   "metadata": {},
   "outputs": [],
   "source": [
    "# initialise and run the truth simulation\n",
    "state = sw_model.new_state_crenel(h_anom)\n",
    "hist_truth = forecast_driver(sw_model, state, Nt)"
   ]
  },
  {
   "cell_type": "code",
   "execution_count": null,
   "metadata": {},
   "outputs": [],
   "source": [
    "# make a fancy animation for water height\n",
    "anim = swm.make_fancy_animation_h([('Truth', hist_truth['h'])],\n",
    "                                  'Truth simulation',\n",
    "                                  freq=10)\n",
    "HTML(anim.to_jshtml())"
   ]
  },
  {
   "cell_type": "code",
   "execution_count": null,
   "metadata": {},
   "outputs": [],
   "source": [
    "# make a fancy animation for horizontal velocity\n",
    "anim = swm.make_fancy_animation_u([('Truth', hist_truth['u'])],\n",
    "                                  'Truth simulation',\n",
    "                                  freq=10)\n",
    "HTML(anim.to_jshtml())"
   ]
  },
  {
   "cell_type": "markdown",
   "metadata": {},
   "source": [
    "## III. The observations\n",
    "\n",
    "At each time step, `Ny=3` observations are available: the water height values at $x=79$, $x=80$, and $x=81$. We assume that there is no observation error.\n",
    "\n",
    "### Questions\n",
    "\n",
    "1. Implement the `apply_observation_operator` function. Compute the observations and explain their time evolution.\n",
    "\n",
    "### Tips\n",
    "\n",
    "- Use `v[i]` to access the $i$-th element of vector $\\mathbf{v}$.\n",
    "- Use `v[i:j+1]` to select the subvector $\\mathbf{v}_{i:j}\\triangleq(v_{i}, \\ldots, v_{j})$."
   ]
  },
  {
   "cell_type": "code",
   "execution_count": null,
   "metadata": {},
   "outputs": [],
   "source": [
    "# list of parameters\n",
    "Ny = 3"
   ]
  },
  {
   "cell_type": "code",
   "execution_count": null,
   "metadata": {},
   "outputs": [],
   "source": [
    "# observation function\n",
    "def apply_observation_operator(h):\n",
    "    \"\"\"Apply the observation operator to the vector h.\n",
    "    \n",
    "    Arguments\n",
    "    ---------\n",
    "    h : numpy array of size Nx\n",
    "        The values of $h(x)$ in the domain.\n",
    "        \n",
    "    Returns\n",
    "    -------\n",
    "    y : numpy array of size Ny\n",
    "        The observations.\n",
    "    \"\"\"\n",
    "    # TODO: implement it! \n",
    "    return h[79:82]\n",
    "\n",
    "# create a driver\n",
    "def observation_driver(hist):\n",
    "    \"\"\"Extract observations from a simulation.\n",
    "    \n",
    "    Use the `apply_observation_operator` function to compute\n",
    "    the observations.\n",
    "    \n",
    "    Return the updated history.\n",
    "    \"\"\"\n",
    "    # extract Nt\n",
    "    Nt = hist['Nt']\n",
    "    \n",
    "    # allocate memory\n",
    "    hist['y'] = np.empty((Nt+1, Ny))\n",
    "    \n",
    "    # run the Nt+1 observation steps\n",
    "    for t in trange(Nt+1, desc='running observation'):\n",
    "        hist['y'][t] = apply_observation_operator(hist['h'][t])\n",
    "        \n",
    "    # return history\n",
    "    return hist"
   ]
  },
  {
   "cell_type": "code",
   "execution_count": null,
   "metadata": {},
   "outputs": [],
   "source": [
    "# run observation driver to compute the observations\n",
    "hist_truth = observation_driver(hist_truth)"
   ]
  },
  {
   "cell_type": "code",
   "execution_count": null,
   "metadata": {},
   "outputs": [],
   "source": [
    "# plot the time series of observations\n",
    "swm.plot_time_series_h([('$h(x=79)$', hist_truth['y'][:, 0]),\n",
    "                        ('$h(x=80)$', hist_truth['y'][:, 1]),\n",
    "                        ('$h(x=81)$', hist_truth['y'][:, 2])],\n",
    "                       'Observations')\n",
    "plt.show()"
   ]
  },
  {
   "cell_type": "markdown",
   "metadata": {},
   "source": [
    "## IV. Simulation without assimilation\n",
    "\n",
    "We first try a simulation without data assimilation. For this **perturbed simulation**, we use a different initial condition: the water height is $h(x)=1$ everywhere.\n",
    "\n",
    "### Questions\n",
    "\n",
    "1. Run the perturbed simulation and explain the time evolution of the error after the initial misfit."
   ]
  },
  {
   "cell_type": "code",
   "execution_count": null,
   "metadata": {},
   "outputs": [],
   "source": [
    "# list of parameters\n",
    "pert_h_anom = 1"
   ]
  },
  {
   "cell_type": "code",
   "execution_count": null,
   "metadata": {},
   "outputs": [],
   "source": [
    "# initialise and run the perturbed simulation\n",
    "state = sw_model.new_state_crenel(pert_h_anom)\n",
    "hist_pert = forecast_driver(sw_model, state, Nt)"
   ]
  },
  {
   "cell_type": "code",
   "execution_count": null,
   "metadata": {},
   "outputs": [],
   "source": [
    "# make a fancy animation for water height\n",
    "anim = swm.make_fancy_animation_h([('Truth', hist_truth['h']),\n",
    "                                   ('Pert.', hist_pert['h'])],\n",
    "                                  'Truth vs Pert. simulation',\n",
    "                                  freq=10)\n",
    "HTML(anim.to_jshtml())"
   ]
  },
  {
   "cell_type": "code",
   "execution_count": null,
   "metadata": {},
   "outputs": [],
   "source": [
    "# auxiliary function to compute the MAE\n",
    "def compute_mae(h1, h2):\n",
    "    \"\"\"Compute the time series of MAE between h1 and h2.\"\"\"\n",
    "    return abs(h1-h2).mean(axis=1)\n",
    "\n",
    "# auxiliary function to compute the RMSE\n",
    "def compute_rmse(h1, h2):\n",
    "    \"\"\"Compute the time series of RMSE between h1 and h2.\"\"\"\n",
    "    return np.sqrt(((h1-h2)**2).mean(axis=1))"
   ]
  },
  {
   "cell_type": "code",
   "execution_count": null,
   "metadata": {},
   "outputs": [],
   "source": [
    "# compute MAE/RMSE for the perturbed simulation\n",
    "hist_pert['mae'] = compute_mae(hist_truth['h'], hist_pert['h'])\n",
    "hist_pert['rmse'] = compute_rmse(hist_truth['h'], hist_pert['h'])"
   ]
  },
  {
   "cell_type": "code",
   "execution_count": null,
   "metadata": {},
   "outputs": [],
   "source": [
    "# plot the time series of MAE\n",
    "swm.plot_time_series_mae([('Pert. sim.', hist_pert['mae'])],\n",
    "                         title='Error in water height')\n",
    "plt.show()"
   ]
  },
  {
   "cell_type": "code",
   "execution_count": null,
   "metadata": {},
   "outputs": [],
   "source": [
    "# plot the time series of RMSE\n",
    "swm.plot_time_series_rmse([('Pert. sim.', hist_pert['rmse'])],\n",
    "                         title='Error in water height')\n",
    "plt.show()"
   ]
  },
  {
   "cell_type": "markdown",
   "metadata": {},
   "source": [
    "## V. Simulation with optimal interpolation\n",
    "\n",
    "We now use the BLUE formula to assimilate the observations. For simplicity, the BLUE formula is applied only to $h(x)$. As a consequence, $u(x)$ is not updated during the analysis. Furthermore, we assume that both background and observation error covariance matrices $\\mathbf{B}$ and $\\mathbf{R}$ are the identity matrix.\n",
    "\n",
    "The **analysis** (the product of the data assimilation process) is compared to the truth using both the mean absolute error (MAE) and the root mean squared error (RMSE).\n",
    "\n",
    "### Questions\n",
    "\n",
    "1. Write down the BLUE formula. Give the size (or shape) of each term.\n",
    "2. Implement the `compute_analysis_blue` function. Run the assimilation. At which time iteration does the assimilation start influencing the simulated height? Why precisely at that time?\n",
    "3. At the three observed locations, where does the analysis stand, compared to the forecast and the observations? Why precisely at that place? In case you would like to move the analysis closer to the observations (at the observed locations), how would you proceed?\n",
    "4. Comment on the time evolution of the forecast error.\n",
    "5. Why is the analysis error (as measured by the MAE) at late iterations larger with data assimilation than without? How would you solve this issue (still using optimal interpolation)?\n",
    "\n",
    "### Tips\n",
    "\n",
    "- Use `M@P` to compute the matrix product $\\mathbf{MP}$.\n",
    "- Use `M@v` to compute the matrix vector product $\\mathbf{Mv}$.\n",
    "- Use `M.T` to compute the transpose of matrix $\\mathbf{M}$.\n",
    "- Use `np.linalg.inv(M)` to compute the inverse of matrix $\\mathbf{M}$.\n"
   ]
  },
  {
   "cell_type": "code",
   "execution_count": null,
   "metadata": {},
   "outputs": [],
   "source": [
    "# list of parameters\n",
    "blue_h_anom = 1"
   ]
  },
  {
   "cell_type": "code",
   "execution_count": null,
   "metadata": {},
   "outputs": [],
   "source": [
    "# BLUE analysis\n",
    "def compute_analysis_blue(hb, B, y, R, H):\n",
    "    \"\"\"Compute the BLUE analysis.\n",
    "    \n",
    "    Arguments\n",
    "    ---------\n",
    "    hb : numpy array of size Nx\n",
    "        The prior (or forecast) values of $h(x)$ in the domain.\n",
    "    B : numpy array of shape Nx * Nx\n",
    "        The background error covariance matrix.\n",
    "    y : numpy array of size Ny\n",
    "        The observations.\n",
    "    R : numpy array of shape Ny * Ny\n",
    "        The observation error covariance matrix.\n",
    "    H : numpy array of shape Ny * Nx\n",
    "        The observation operator.\n",
    "        \n",
    "    Returns\n",
    "    -------\n",
    "    ha : numpy array of size Nx\n",
    "        The posterior (or analysis) values of $h(x)$ in the domain.\n",
    "    \"\"\"\n",
    "    # TODO: implement it!\n",
    "    K = B@H.T@np.linalg.inv(R+H@B@H.T)\n",
    "    return hb + K@(y-H@hb)\n",
    "\n",
    "# create a driver\n",
    "def blue_driver(model, state, hist_t):\n",
    "    \"\"\"Run a BLUE simulation of the given model starting from the given state.\n",
    "    \n",
    "    At each time step, an analysis for h is performed using `compute_analysis_blue`.\n",
    "    \n",
    "    Returns the history.\n",
    "    \"\"\"\n",
    "    # extract Nt\n",
    "    Nt = hist_t['Nt']\n",
    "    \n",
    "    # background error covariance matrix\n",
    "    B = np.identity(model.Nx)\n",
    "\n",
    "    # observation error covariance matrix\n",
    "    R = np.identity(Ny)\n",
    "\n",
    "    # observation operator\n",
    "    H = np.zeros((Ny, model.Nx))\n",
    "    H[:, 79:82] = np.identity(3)\n",
    "    \n",
    "    # allocate memory\n",
    "    hist = dict(Nt=Nt,\n",
    "                u=np.empty((Nt+1, model.Nx)),\n",
    "                hf=np.empty((Nt+1, model.Nx)),\n",
    "                ha=np.empty((Nt+1, model.Nx)))\n",
    "    \n",
    "    # initialisation\n",
    "    hist['u'][0] = state.u\n",
    "    hist['hf'][0] = state.h\n",
    "\n",
    "    # run first analysis\n",
    "    state.h = compute_analysis_blue(state.h, B, hist_t['y'][0], R, H)\n",
    "    hist['ha'][0] = state.h\n",
    "    \n",
    "    # run the Nt time steps\n",
    "    for t in trange(Nt, desc='running BLUE'):\n",
    "        \n",
    "        # forecast\n",
    "        model.forward(state)\n",
    "        hist['hf'][t+1] = state.h        \n",
    "        hist['u'][t+1] = state.u\n",
    "        \n",
    "        # analysis\n",
    "        state.h = compute_analysis_blue(state.h, B, hist_t['y'][t+1], R, H)\n",
    "        hist['ha'][t+1] = state.h\n",
    "        \n",
    "    # compute mae and rmse for h\n",
    "    hist['mae'] = compute_mae(hist_t['h'], hist['ha'])\n",
    "    hist['rmse'] = compute_rmse(hist_t['h'], hist['ha'])\n",
    "        \n",
    "    # return history\n",
    "    return hist"
   ]
  },
  {
   "cell_type": "code",
   "execution_count": null,
   "metadata": {},
   "outputs": [],
   "source": [
    "# initialise and run the BLUE simulation\n",
    "state = sw_model.new_state_crenel(h_anom=blue_h_anom)\n",
    "hist_blue = blue_driver(sw_model, state, hist_truth)"
   ]
  },
  {
   "cell_type": "code",
   "execution_count": null,
   "metadata": {},
   "outputs": [],
   "source": [
    "# make a fancy animation for water height\n",
    "anim = swm.make_fancy_animation_h([('Truth', hist_truth['h']),\n",
    "                                   ('BLUE analysis', hist_blue['ha'])],\n",
    "                                  'Truth vs BLUE simulation',\n",
    "                                  freq=10)\n",
    "HTML(anim.to_jshtml())"
   ]
  },
  {
   "cell_type": "code",
   "execution_count": null,
   "metadata": {},
   "outputs": [],
   "source": [
    "# make a fancy animation for horizontal velocity\n",
    "anim = swm.make_fancy_animation_u([('Truth', hist_truth['u']),\n",
    "                                   ('BLUE analysis', hist_blue['u'])],\n",
    "                                  'Truth vs BLUE simulation',\n",
    "                                  freq=10)\n",
    "HTML(anim.to_jshtml())"
   ]
  },
  {
   "cell_type": "code",
   "execution_count": null,
   "metadata": {},
   "outputs": [],
   "source": [
    "# make a fancy animation for water height (zoom)\n",
    "anim = swm.make_fancy_animation_h([('Truth', hist_truth['h']),\n",
    "                                   ('BLUE analysis', hist_blue['ha']),\n",
    "                                   ('BLUE forecast', hist_blue['hf'])],\n",
    "                                  'Truth vs BLUE simulation',\n",
    "                                  x_min=77,\n",
    "                                  x_max=83,\n",
    "                                  y_min=1,\n",
    "                                  y_max=1.02,\n",
    "                                  freq=10)\n",
    "HTML(anim.to_jshtml())"
   ]
  },
  {
   "cell_type": "code",
   "execution_count": null,
   "metadata": {},
   "outputs": [],
   "source": [
    "# plot the time series of MAE\n",
    "swm.plot_time_series_mae([('Pert. sim.', hist_pert['mae']),\n",
    "                          ('BLUE analysis', hist_blue['mae'])],\n",
    "                         title='Error in water height')\n",
    "plt.show()"
   ]
  },
  {
   "cell_type": "code",
   "execution_count": null,
   "metadata": {},
   "outputs": [],
   "source": [
    "# plot the time series of RMSE\n",
    "swm.plot_time_series_rmse([('Pert. sim.', hist_pert['rmse']),\n",
    "                           ('BLUE analysis', hist_blue['rmse'])],\n",
    "                          title='Error in water height')\n",
    "plt.show()"
   ]
  },
  {
   "cell_type": "markdown",
   "metadata": {},
   "source": [
    "## VI. Simulation with ensemble Kalman filter\n",
    "\n",
    "We then use the stochastic EnKF to assimilate the observations. Compared to the optimal interpolation method used previously, the advantage of the KF is to enable a dynamic representation of the background error covariance matrix $\\mathbf{B}$. For large systems however (with more than $10^9$ variables), it is impossible to even store $\\mathbf{B}$. This is why the EnKF has been designed to provide a tractable version of the KF. The stochastic EnKF is one possible implementation of the EnKF, which is very simple: during the analysis, the BLUE formula is applied independently to each ensemble member.\n",
    "\n",
    "For this experiment, we use an ensemble of `Ne=25` members. Each ensemble member is initially a crenel function. The average crenel height is `1` (i.e. no anomaly) et and crenel height standard deviation is `0.02`. Once again, we assume that the observation error covariance matrix $\\mathbf{R}$ is the identity matrix.\n",
    "\n",
    "For this (non-weighted) ensemble-based algorithm, the **analysis** is the (non-weighted) sample mean of the analysis ensemble. It is to be compared to the truth using both the mean absolute error (MAE) and the root mean squared error (RMSE).\n",
    "\n",
    "### Questions\n",
    "\n",
    "1. Implement the `compute_covariance` function. Run the assimilation. Comment on the efficiency of the assimilation.\n",
    "2. Compare the eigenvalues of $\\mathbf{B}$ to those of $\\mathbf{R}$. What can you conclude? Make the appropriate correction for the assimilation to be effective.\n",
    "3. Describe the time evolution of the analysis and its error. Explain why the EnKF filter is more efficient than the optimal interpolation.\n",
    "4. Describe and explain the time evolution of the ensemble spread. Relate this result to the time evolution of the largest eigenvalue of $\\mathbf{B}$.\n",
    "5. Review the `enkf_driver` function. The observations are not perturbed in the analysis. Explain why observations have to be perturbed in the stochastic EnKF, and why it is not an issue in our experiment. \n",
    "\n",
    "### Tips\n",
    "\n",
    "- Use `M.mean(axis=0)` to compute the average of the matrix $\\mathbf{M}$ along the first axis.\n",
    "- Use `M[i]` to select the entire $i$-th row of the matrix $\\mathbf{M}$."
   ]
  },
  {
   "cell_type": "code",
   "execution_count": null,
   "metadata": {},
   "outputs": [],
   "source": [
    "# list of parameters\n",
    "Ne = 25\n",
    "mean_h_anom = 1\n",
    "std_h_anom = 0.02"
   ]
  },
  {
   "cell_type": "code",
   "execution_count": null,
   "metadata": {},
   "outputs": [],
   "source": [
    "# covariance\n",
    "def compute_covariance(E):\n",
    "    \"\"\"Compute the sample covariance matrix of ensemble E.\n",
    "    \n",
    "    Arguments\n",
    "    ---------\n",
    "    E : numpy array of shape Ne * Nx\n",
    "        The ensemble matrix.\n",
    "    \n",
    "    Returns\n",
    "    -------\n",
    "    B : numpy array of shape Nx * Nx\n",
    "        The covariance matrix of ensemble E.\n",
    "    \"\"\"\n",
    "    # TODO: implement it!\n",
    "    return np.cov(E, rowvar=False)\n",
    "\n",
    "# EnKF analysis\n",
    "def compute_analysis_enkf(Ef, y, R, H):\n",
    "    \"\"\"Compute the EnKF analysis.\"\"\"\n",
    "    Ne = Ef.shape[0]\n",
    "    B = compute_covariance(Ef)\n",
    "    Ea = np.zeros(Ef.shape)\n",
    "    for i in range(Ne):\n",
    "        Ea[i] = compute_analysis_blue(Ef[i], B, y, R, H)\n",
    "    return (Ea, B)\n",
    "\n",
    "# create a driver\n",
    "def enkf_driver(model, ensemble, hist_t):\n",
    "    \"\"\"Run an EnKF simulation of the given model starting from the given ensemble.\n",
    "    \n",
    "    At each time step, an analysis for h is performed using `compute_analysis_enkf`.\n",
    "    \n",
    "    Returns the history.\n",
    "    \"\"\"\n",
    "    \n",
    "    # extract Nt\n",
    "    Nt = hist_t['Nt']\n",
    "\n",
    "    # observation error covariance matrix\n",
    "    R = 1e-3 * np.identity(Ny)\n",
    "\n",
    "    # observation operator\n",
    "    H = np.zeros((Ny, model.Nx))\n",
    "    H[:, 79:82] = np.identity(3)\n",
    "    \n",
    "    # allocate memory\n",
    "    hist = dict(Nt=Nt,\n",
    "                u=np.empty((Nt+1, ensemble.Ne, model.Nx)),\n",
    "                hf=np.empty((Nt+1, ensemble.Ne, model.Nx)),\n",
    "                ha=np.empty((Nt+1, ensemble.Ne, model.Nx)),\n",
    "                B=np.empty((Nt+1, model.Nx, model.Nx)))\n",
    "    \n",
    "    # initialisation\n",
    "    hist['u'][0] = ensemble.u\n",
    "    hist['hf'][0] = ensemble.h\n",
    "\n",
    "    # run first analysis\n",
    "    ensemble.h, B = compute_analysis_enkf(ensemble.h, hist_t['y'][0], R, H)\n",
    "    hist['ha'][0] = ensemble.h\n",
    "    hist['B'][0] = B\n",
    "    \n",
    "    # run the Nt time steps\n",
    "    for t in trange(Nt, desc='running EnKF'):\n",
    "        \n",
    "        # forecast\n",
    "        model.forward_ensemble(ensemble)\n",
    "        hist['hf'][t+1] = ensemble.h        \n",
    "        hist['u'][t+1] = ensemble.u\n",
    "        \n",
    "        # analysis\n",
    "        ensemble.h, B = compute_analysis_enkf(ensemble.h, hist_t['y'][t+1], R, H)\n",
    "        hist['ha'][t+1] = ensemble.h\n",
    "        hist['B'][t+1] = B\n",
    "        \n",
    "    # compute mae and rmse for h\n",
    "    hist['mae'] = compute_mae(hist_t['h'], hist['ha'].mean(axis=1))\n",
    "    hist['rmse'] = compute_rmse(hist_t['h'], hist['ha'].mean(axis=1))\n",
    "        \n",
    "    # return history\n",
    "    return hist"
   ]
  },
  {
   "cell_type": "code",
   "execution_count": null,
   "metadata": {},
   "outputs": [],
   "source": [
    "# initialise and run the EnKF simulation\n",
    "ensemble = sw_model.new_ensemble_crenel(Ne, mean_h_anom, std_h_anom, seed=314)\n",
    "hist_enkf = enkf_driver(sw_model, ensemble, hist_truth)"
   ]
  },
  {
   "cell_type": "code",
   "execution_count": null,
   "metadata": {},
   "outputs": [],
   "source": [
    "# make a fancy animation for water height\n",
    "anim = swm.make_fancy_animation_h([('Truth', hist_truth['h']),\n",
    "                                   ('EnKF analysis', hist_enkf['ha'].mean(axis=1))],\n",
    "                                  'Truth vs EnKF simulation',\n",
    "                                  freq=10)\n",
    "HTML(anim.to_jshtml())"
   ]
  },
  {
   "cell_type": "code",
   "execution_count": null,
   "metadata": {},
   "outputs": [],
   "source": [
    "# make a fancy animation for horizontal velocity\n",
    "anim = swm.make_fancy_animation_u([('Truth', hist_truth['u']),\n",
    "                                   ('EnKF analysis', hist_enkf['u'].mean(axis=1))],\n",
    "                                  'Truth vs EnKF simulation',\n",
    "                                  freq=10)\n",
    "HTML(anim.to_jshtml())"
   ]
  },
  {
   "cell_type": "code",
   "execution_count": null,
   "metadata": {},
   "outputs": [],
   "source": [
    "# compute the largest eigenvalue of B\n",
    "largest_eigval = np.zeros(Nt+1)\n",
    "for t in range(Nt+1):\n",
    "    largest_eigval[t] = abs(scipy.linalg.eigvals(hist_enkf['B'][t])).max()"
   ]
  },
  {
   "cell_type": "code",
   "execution_count": null,
   "metadata": {},
   "outputs": [],
   "source": [
    "# plot the time evolution of the largest eigenvalue\n",
    "fig = plt.figure(figsize=(12, 6))\n",
    "ax = plt.gca()\n",
    "ax.set_yscale('log')\n",
    "ax.set_xlim(0, 15)\n",
    "ax.set_ylim(1e-5, 1)\n",
    "ax.set_xlabel('Time')\n",
    "ax.set_ylabel('Module of largest B eigenvalue')\n",
    "time = sw_model.dt * np.arange(Nt+1)\n",
    "ax.plot(time, largest_eigval, c=palette[0])\n",
    "plt.show()"
   ]
  },
  {
   "cell_type": "code",
   "execution_count": null,
   "metadata": {},
   "outputs": [],
   "source": [
    "# plot the time series of MAE\n",
    "swm.plot_time_series_mae([('Pert. sim.', hist_pert['mae']),\n",
    "                          ('BLUE analysis', hist_blue['mae']),\n",
    "                          ('EnKF analysis', hist_enkf['mae'])],\n",
    "                         title='Error in water height')\n",
    "plt.show()"
   ]
  },
  {
   "cell_type": "code",
   "execution_count": null,
   "metadata": {},
   "outputs": [],
   "source": [
    "# plot the time series of RMSE\n",
    "swm.plot_time_series_rmse([('Pert. sim.', hist_pert['rmse']),\n",
    "                          ('BLUE analysis', hist_blue['rmse']),\n",
    "                          ('EnKF analysis', hist_enkf['rmse'])],\n",
    "                         title='Error in water height')\n",
    "plt.show()"
   ]
  },
  {
   "cell_type": "code",
   "execution_count": null,
   "metadata": {},
   "outputs": [],
   "source": [
    "# make a fancy animation for B\n",
    "anim = swm.make_fancy_animation_B(hist_enkf['B'], 'B matrix (EnKF)')\n",
    "HTML(anim.to_jshtml())"
   ]
  },
  {
   "cell_type": "code",
   "execution_count": null,
   "metadata": {},
   "outputs": [],
   "source": [
    "# make a fancy animation for water height (with ensemble)\n",
    "anim = swm.make_fancy_animation_h_ensemble([('Truth', hist_truth['h']),\n",
    "                                            ('EnKF analysis', hist_enkf['ha'].mean(axis=1))],\n",
    "                                           [hist_enkf['ha'][:, i] for i in range(Ne)],\n",
    "                                           'Truth vs EnKF simulation',\n",
    "                                           freq=10)\n",
    "HTML(anim.to_jshtml())"
   ]
  },
  {
   "cell_type": "markdown",
   "metadata": {},
   "source": [
    "## VII. Co-assimilation of both h and u\n",
    "\n",
    "In the previous experiments, the BLUE formula has been applied to $h(x)$. In order to apply the BLUE formula to both $h(x)$ and $u(x)$, we need to specify the background error covariance matrix $\\mathbf{B}$ for the entire state (_i.e._, the `2Nx` variables). When using the EnKF, the covariances can all be extracted from the ensemble. This is what is done here.\n",
    "\n",
    "### Questions\n",
    "\n",
    "1. In the previous experiments, $u(x)$ was not corrected during the analysis, but it got corrected anyway. Where did the correction come from?\n",
    "2. Read the updated `co_enkf_driver` function and describe the modifications (compared to the original `enkf_driver` function).\n",
    "3. Run the simulation and explain why the $(h, u)$ co-assimilation is more efficient than the single $h$ assimilation."
   ]
  },
  {
   "cell_type": "code",
   "execution_count": null,
   "metadata": {},
   "outputs": [],
   "source": [
    "# create a driver\n",
    "def co_enkf_driver(model, ensemble, hist_t):\n",
    "    \"\"\"Run an EnKF simulation of the given model starting from the given ensemble.\n",
    "    \n",
    "    At each time step, an analysis for h is performed using `compute_analysis_enkf`.\n",
    "    \n",
    "    Returns the history.\n",
    "    \"\"\"\n",
    "    \n",
    "    # extract Nt\n",
    "    Nt = hist_t['Nt']\n",
    "\n",
    "    # observation error covariance matrix\n",
    "    R = 1e-4 * np.identity(Ny)\n",
    "\n",
    "    # observation operator\n",
    "    H = np.zeros((Ny, 2*model.Nx))\n",
    "    H[:, 79:82] = np.identity(3)\n",
    "    \n",
    "    # allocate memory\n",
    "    hist = dict(Nt=Nt,\n",
    "                uf=np.empty((Nt+1, ensemble.Ne, model.Nx)),\n",
    "                ua=np.empty((Nt+1, ensemble.Ne, model.Nx)),\n",
    "                hf=np.empty((Nt+1, ensemble.Ne, model.Nx)),\n",
    "                ha=np.empty((Nt+1, ensemble.Ne, model.Nx)),\n",
    "                B=np.empty((Nt+1, 2*model.Nx, 2*model.Nx)))\n",
    "    \n",
    "    # initialisation\n",
    "    hist['uf'][0] = ensemble.u\n",
    "    hist['hf'][0] = ensemble.h\n",
    "\n",
    "    # run first analysis\n",
    "    Ef = np.concatenate([ensemble.h, ensemble.u], axis=1)\n",
    "    Ea, B = compute_analysis_enkf(Ef, hist_t['y'][0], R, H)\n",
    "    hist['ha'][0] = Ea[:, :model.Nx]\n",
    "    hist['ua'][0] = Ea[:, model.Nx:]\n",
    "    hist['B'][0] = B\n",
    "    ensemble.h[:] = Ea[:, :model.Nx]\n",
    "    ensemble.u[:] = Ea[:, model.Nx:]\n",
    "    \n",
    "    # run the Nt time steps\n",
    "    for t in trange(Nt, desc='running EnKF'):\n",
    "        \n",
    "        # forecast\n",
    "        model.forward_ensemble(ensemble)\n",
    "        hist['hf'][t+1] = ensemble.h        \n",
    "        hist['uf'][t+1] = ensemble.u\n",
    "        \n",
    "        # analysis\n",
    "        Ef = np.concatenate([ensemble.h, ensemble.u], axis=1)\n",
    "        Ea, B = compute_analysis_enkf(Ef, hist_t['y'][t+1], R, H)\n",
    "        hist['ha'][t+1] = Ea[:, :model.Nx]\n",
    "        hist['ua'][t+1] = Ea[:, model.Nx:]\n",
    "        hist['B'][t+1] = B\n",
    "        ensemble.h[:] = Ea[:, :model.Nx]\n",
    "        ensemble.u[:] = Ea[:, model.Nx:]\n",
    "        \n",
    "    # compute mae and rmse for h\n",
    "    hist['mae'] = compute_mae(hist_t['h'], hist['ha'].mean(axis=1))\n",
    "    hist['rmse'] = compute_rmse(hist_t['h'], hist['ha'].mean(axis=1))\n",
    "        \n",
    "    # return history\n",
    "    return hist"
   ]
  },
  {
   "cell_type": "code",
   "execution_count": null,
   "metadata": {},
   "outputs": [],
   "source": [
    "# initialise and run the EnKF simulation\n",
    "ensemble = sw_model.new_ensemble_crenel(Ne, mean_h_anom, std_h_anom, seed=42)\n",
    "hist_co_enkf = co_enkf_driver(sw_model, ensemble, hist_truth)"
   ]
  },
  {
   "cell_type": "code",
   "execution_count": null,
   "metadata": {},
   "outputs": [],
   "source": [
    "# make a fancy animation for water height\n",
    "anim = swm.make_fancy_animation_h([('Truth', hist_truth['h']),\n",
    "                                   ('EnKF analysis', hist_enkf['ha'].mean(axis=1)),\n",
    "                                   ('(co-)EnKF analysis', hist_co_enkf['ha'].mean(axis=1))],\n",
    "                                  'Truth vs EnKF simulation',\n",
    "                                  freq=10)\n",
    "HTML(anim.to_jshtml())"
   ]
  },
  {
   "cell_type": "code",
   "execution_count": null,
   "metadata": {},
   "outputs": [],
   "source": [
    "# make a fancy animation for horizontal velocity\n",
    "anim = swm.make_fancy_animation_u([('Truth', hist_truth['u']),\n",
    "                                   ('EnKF analysis', hist_enkf['u'].mean(axis=1)),\n",
    "                                   ('(co-)EnKF analysis', hist_co_enkf['ua'].mean(axis=1))],\n",
    "                                  'Truth vs EnKF simulation',\n",
    "                                  freq=10)\n",
    "HTML(anim.to_jshtml())"
   ]
  },
  {
   "cell_type": "code",
   "execution_count": null,
   "metadata": {},
   "outputs": [],
   "source": [
    "# make a fancy animation for B\n",
    "anim = swm.make_fancy_animation_B(hist_co_enkf['B'], 'B matrix (EnKF, co-assimilation)')\n",
    "HTML(anim.to_jshtml())"
   ]
  },
  {
   "cell_type": "code",
   "execution_count": null,
   "metadata": {},
   "outputs": [],
   "source": [
    "# plot the time series of MAE\n",
    "swm.plot_time_series_mae([('Pert. sim.', hist_pert['mae']),\n",
    "                          ('BLUE analysis', hist_blue['mae']),\n",
    "                          ('EnKF analysis', hist_enkf['mae']),\n",
    "                          ('(co-)EnKF analysis', hist_co_enkf['mae'])],\n",
    "                         title='Error in water height')\n",
    "plt.show()"
   ]
  },
  {
   "cell_type": "code",
   "execution_count": null,
   "metadata": {},
   "outputs": [],
   "source": [
    "# plot the time series of RMSE\n",
    "swm.plot_time_series_rmse([('Pert. sim.', hist_pert['rmse']),\n",
    "                          ('BLUE analysis', hist_blue['rmse']),\n",
    "                          ('EnKF analysis', hist_enkf['rmse']),\n",
    "                          ('(co-)EnKF analysis', hist_co_enkf['rmse'])],\n",
    "                         title='Error in water height')\n",
    "plt.show()"
   ]
  }
 ],
 "metadata": {
  "kernelspec": {
   "display_name": "Python 3 (ipykernel)",
   "language": "python",
   "name": "python3"
  },
  "language_info": {
   "codemirror_mode": {
    "name": "ipython",
    "version": 3
   },
   "file_extension": ".py",
   "mimetype": "text/x-python",
   "name": "python",
   "nbconvert_exporter": "python",
   "pygments_lexer": "ipython3",
   "version": "3.10.8"
  }
 },
 "nbformat": 4,
 "nbformat_minor": 4
}
